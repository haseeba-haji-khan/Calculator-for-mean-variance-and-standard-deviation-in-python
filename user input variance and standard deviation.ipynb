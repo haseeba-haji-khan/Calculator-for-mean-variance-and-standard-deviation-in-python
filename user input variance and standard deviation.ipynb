{
 "cells": [
  {
   "cell_type": "code",
   "execution_count": 1,
   "metadata": {},
   "outputs": [
    {
     "name": "stdout",
     "output_type": "stream",
     "text": [
      "Total observation: 3\n",
      "average: 2.0\n",
      "variance: 0.6666666666666666\n",
      "standard deviation: 0.816496580927726\n"
     ]
    }
   ],
   "source": [
    "numlist=list()\n",
    "while True:\n",
    "    number = input(\"Enter a Number: \")\n",
    "    if number == \"Exit\":\n",
    "     break\n",
    "    num=int(number) \n",
    "    total=numlist.append(num)\n",
    "total_number=len(numlist)\n",
    "average=sum(numlist)/len(numlist)\n",
    "deviation = sum((num - average)**2 for num in numlist)\n",
    "variance=deviation/len(numlist)\n",
    "standard_deviation=variance**0.5\n",
    "print(\"Total observation:\", total_number)\n",
    "print(\"average:\", average)\n",
    "print(\"variance:\", variance)\n",
    "print(\"standard deviation:\", standard_deviation)"
   ]
  }
 ],
 "metadata": {
  "kernelspec": {
   "display_name": "Python 3",
   "language": "python",
   "name": "python3"
  },
  "language_info": {
   "codemirror_mode": {
    "name": "ipython",
    "version": 3
   },
   "file_extension": ".py",
   "mimetype": "text/x-python",
   "name": "python",
   "nbconvert_exporter": "python",
   "pygments_lexer": "ipython3",
   "version": "3.10.6"
  },
  "orig_nbformat": 4,
  "vscode": {
   "interpreter": {
    "hash": "865d8b2eb28e274047ba64063dfb6a2aabf0dfec4905d304d7a76618dae6fdd4"
   }
  }
 },
 "nbformat": 4,
 "nbformat_minor": 2
}
